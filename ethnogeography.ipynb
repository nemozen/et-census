{
 "cells": [
  {
   "cell_type": "markdown",
   "metadata": {},
   "source": [
    "# Ethno-geographic diversity of Ethiopia\n",
    "\n",
    "Define \"ethnic diversity\" of a region as the probability that any two randomly selected people in the region will belong to different ethnic groups. From a population histogram, it can be computed as follows:"
   ]
  },
  {
   "cell_type": "code",
   "execution_count": 1,
   "metadata": {},
   "outputs": [],
   "source": [
    "def diversity(p):\n",
    "    n = sum([p_i*p_i for p_i in p])\n",
    "    s = v.sum()\n",
    "    return 1.0 - n/(s*s)"
   ]
  },
  {
   "cell_type": "markdown",
   "metadata": {},
   "source": [
    "Using [data from the 2007 census](data), we can compute ethnic diversity at the district level.  The data is only available in PDF format, so we need [a custom parser](census_pdf_parser.py) based on [tabula](https://tabula.technology/)."
   ]
  },
  {
   "cell_type": "code",
   "execution_count": null,
   "metadata": {},
   "outputs": [],
   "source": [
    "import census_pdf_parser\n",
    "\n",
    "files= [\n",
    "    'data/Addis_Ababa_Statistical-table_3.1.pdf',\n",
    "    'data/Affar_Statistical-table_3.1.pdf',\n",
    "    'data/Statistical_Amhara-table_3.1.pdf',\n",
    "    'data/Benishangu_Gumuz_Statistical-table_3.1.pdf',\n",
    "    'data/Dire_Dawa_Statistical-table_3.1.pdf',\n",
    "    'data/Gambella_Statistical-table_3.1.pdf',\n",
    "    'data/Harari_Statistical-table_3.1.pdf',\n",
    "    'data/Statistical_Oromiya-table_3.1.pdf',\n",
    "    'data/Statistical_SNNPR-table_3.1.pdf',\n",
    "    'data/Somali_Statistical-table_3.1.pdf',\n",
    "    'data/Tigray_Statistical-table_3.1.pdf',\n",
    "]\n",
    " \n",
    "tables = {}\n",
    "\n",
    "for filename in files:\n",
    "    for name, table in census_pdf_parser.process_file(filename):\n",
    "        if name in tables:\n",
    "            name += '~'\n",
    "        tables[name] = table\n",
    "\n",
    "print(len(files), 'files.', len(tables), 'tables.' )"
   ]
  },
  {
   "cell_type": "code",
   "execution_count": null,
   "metadata": {},
   "outputs": [],
   "source": [
    "import pandas as pd\n",
    "\n",
    "df = pd.DataFrame(columns=['name', 'diversity', 'population'])\n",
    "\n",
    "for name,t in tables.items(): \n",
    "    if not name:\n",
    "        continue\n",
    "    v = t.loc[t.index!='All Groups'][1].dropna()\n",
    "    df = df.append([{'name': name, 'diversity': diversity(v), 'population': v.sum()}], \n",
    "                   ignore_index=True)"
   ]
  },
  {
   "cell_type": "code",
   "execution_count": null,
   "metadata": {},
   "outputs": [],
   "source": [
    "import matplotlib.pyplot as plt\n",
    "import geopandas\n",
    "from regions import region_mapping, get_geometry\n",
    "\n",
    "rdf = pd.DataFrame(data=region_mapping.items(), columns=['name', 'region_id'])\n",
    "rdf = rdf.merge(df, how='left', on='name')\n",
    "\n",
    "geo_data = []\n",
    "\n",
    "for r in rdf[['region_id', 'diversity', 'population', 'name']].values:\n",
    "    if pd.isna(r[0]):\n",
    "        continue\n",
    "    geo_data.append({\n",
    "        'region_id': int(r[0]),\n",
    "        'geometry': get_geometry(int(r[0])),\n",
    "        'diversity': 100*r[1],\n",
    "        'population': r[2],\n",
    "        'name': r[3]\n",
    "    })\n",
    "\n",
    "gdf = geopandas.GeoDataFrame(geo_data)\n",
    "\n",
    "fig, axes = plt.subplots(1, 1, figsize=(40,24))\n",
    "gdf.plot(ax=axes, edgecolor='black', facecolor='lightgray')\n",
    "gdf.plot(column='diversity',  cmap='YlOrRd', vmin=0, vmax=100, \n",
    "         ax=axes, legend=True)\n",
    "axes.xaxis.set_visible(False)\n",
    "axes.yaxis.set_visible(False)\n",
    "axes.set_title('Ethnic diversity')\n",
    "plt.show()"
   ]
  },
  {
   "cell_type": "code",
   "execution_count": null,
   "metadata": {},
   "outputs": [],
   "source": [
    "fig, axes = plt.subplots(1, 1, figsize=(40,24))\n",
    "gdf.plot(ax=axes, edgecolor='gray', facecolor='lightgray')\n",
    "gtmp = gdf.dropna(subset=['geometry'])\n",
    "d = plt.scatter(list(map(lambda p: p.x, gtmp.centroid)), \n",
    "                list(map(lambda p: p.y, gtmp.centroid)),\n",
    "                c=gtmp['diversity'], cmap='YlOrRd',\n",
    "                s=gtmp['population']/333)\n",
    "l1 = plt.legend(*d.legend_elements(prop=\"colors\"), loc=\"upper right\", title=\"Ethnic Diversity\")\n",
    "axes.add_artist(l1)\n",
    "l2 = plt.legend(*d.legend_elements(prop=\"sizes\", num=[2,], alpha=0.1, func=lambda x: x*333/1e6, fmt='{x:.1f}M people'), frameon=False, loc=\"center right\")\n",
    "plt.show()"
   ]
  },
  {
   "cell_type": "code",
   "execution_count": null,
   "metadata": {},
   "outputs": [],
   "source": [
    "rdf.dropna(subset=['region_id'])[['name','diversity', 'population']].sort_values(by='diversity', ascending=False).set_index('name').iloc[:10]"
   ]
  }
 ],
 "metadata": {
  "kernelspec": {
   "display_name": "Python 3",
   "language": "python",
   "name": "python3"
  },
  "language_info": {
   "codemirror_mode": {
    "name": "ipython",
    "version": 3
   },
   "file_extension": ".py",
   "mimetype": "text/x-python",
   "name": "python",
   "nbconvert_exporter": "python",
   "pygments_lexer": "ipython3",
   "version": "3.6.9"
  }
 },
 "nbformat": 4,
 "nbformat_minor": 4
}
